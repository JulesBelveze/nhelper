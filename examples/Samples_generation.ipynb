{
 "cells": [
  {
   "cell_type": "code",
   "execution_count": 1,
   "id": "1c355a27",
   "metadata": {},
   "outputs": [
    {
     "name": "stderr",
     "output_type": "stream",
     "text": [
      "/Users/jules/Desktop/nlptest/.venv/nlptest/lib/python3.9/site-packages/tqdm/auto.py:22: TqdmWarning: IProgress not found. Please update jupyter and ipywidgets. See https://ipywidgets.readthedocs.io/en/stable/user_install.html\n",
      "  from .autonotebook import tqdm as notebook_tqdm\n"
     ]
    }
   ],
   "source": [
    "from nhelper.generator import Generator"
   ]
  },
  {
   "cell_type": "markdown",
   "id": "c4c108c0",
   "metadata": {},
   "source": [
    "## `kwargs` based generation"
   ]
  },
  {
   "cell_type": "code",
   "execution_count": 2,
   "id": "dfa34dac",
   "metadata": {},
   "outputs": [],
   "source": [
    "kwargs_generator = Generator()"
   ]
  },
  {
   "cell_type": "code",
   "execution_count": 3,
   "id": "4b4a64ce",
   "metadata": {},
   "outputs": [
    {
     "name": "stdout",
     "output_type": "stream",
     "text": [
      "Sentence 0: I am flying to NYC next week.\n",
      "Sentence 1: I am flying to Copenhagen next week.\n",
      "Sentence 2: I am flying to Miami next week.\n"
     ]
    }
   ],
   "source": [
    "template = \"I am flying to {location} next week.\"\n",
    "locations = [\"NYC\", \"Copenhagen\", \"Miami\"]\n",
    "\n",
    "for i, prediction in enumerate(kwargs_generator.generate(template, location=locations)):\n",
    "    print(f\"Sentence {i}: {prediction}\")"
   ]
  },
  {
   "cell_type": "markdown",
   "id": "30311d0e",
   "metadata": {},
   "source": [
    "One can also combine multiple `kwargs`, by either giving the same number of values to all kwargs or not"
   ]
  },
  {
   "cell_type": "code",
   "execution_count": 4,
   "id": "57c98114",
   "metadata": {},
   "outputs": [
    {
     "name": "stdout",
     "output_type": "stream",
     "text": [
      "Sentence 0: I am flying to NYC next week with my girlfriend.\n",
      "Sentence 1: I am flying to Copenhagen next week with my sister.\n",
      "Sentence 2: I am flying to Miami next week with my dog.\n"
     ]
    }
   ],
   "source": [
    "template = \"I am flying to {location} next week with my {who}.\"\n",
    "\n",
    "# same number of values\n",
    "locations = [\"NYC\", \"Copenhagen\", \"Miami\"]\n",
    "whos = [\"girlfriend\", \"sister\", \"dog\"]\n",
    "\n",
    "for i, prediction in enumerate(kwargs_generator.generate(template, location=locations, who=whos)):\n",
    "    print(f\"Sentence {i}: {prediction}\")"
   ]
  },
  {
   "cell_type": "code",
   "execution_count": 5,
   "id": "641c3893",
   "metadata": {},
   "outputs": [
    {
     "name": "stdout",
     "output_type": "stream",
     "text": [
      "Sentence 0: I am flying to London next week with my family.\n",
      "Sentence 1: I am flying to London next week with my friend.\n",
      "Sentence 2: I am flying to London next week with my cat.\n",
      "Sentence 3: I am flying to Paris next week with my family.\n",
      "Sentence 4: I am flying to Paris next week with my friend.\n",
      "Sentence 5: I am flying to Paris next week with my cat.\n"
     ]
    }
   ],
   "source": [
    "# different number of values\n",
    "locations = [\"London\", \"Paris\"]\n",
    "whos = [\"family\", \"friend\", \"cat\"]\n",
    "\n",
    "for i, prediction in enumerate(kwargs_generator.generate(template, True, location=locations, who=whos)):\n",
    "    print(f\"Sentence {i}: {prediction}\")"
   ]
  },
  {
   "cell_type": "markdown",
   "id": "cef990dc",
   "metadata": {},
   "source": [
    "## Fill mask generation"
   ]
  },
  {
   "cell_type": "markdown",
   "id": "de933198",
   "metadata": {},
   "source": [
    "You can use any fine-tuned model available [here](https://huggingface.co/models?pipeline_tag=fill-mask&sort=downloads) to generate samples by predicting masked words."
   ]
  },
  {
   "cell_type": "code",
   "execution_count": 6,
   "id": "8b124eb4",
   "metadata": {},
   "outputs": [
    {
     "name": "stderr",
     "output_type": "stream",
     "text": [
      "Some weights of the model checkpoint at bert-base-cased were not used when initializing BertForMaskedLM: ['cls.seq_relationship.weight', 'cls.seq_relationship.bias']\n",
      "- This IS expected if you are initializing BertForMaskedLM from the checkpoint of a model trained on another task or with another architecture (e.g. initializing a BertForSequenceClassification model from a BertForPreTraining model).\n",
      "- This IS NOT expected if you are initializing BertForMaskedLM from the checkpoint of a model that you expect to be exactly identical (initializing a BertForSequenceClassification model from a BertForSequenceClassification model).\n"
     ]
    }
   ],
   "source": [
    "fill_mask_generator = Generator(\n",
    "    fill_mask_model_name=\"bert-base-cased\"\n",
    ")"
   ]
  },
  {
   "cell_type": "code",
   "execution_count": 7,
   "id": "4c17fd9f",
   "metadata": {},
   "outputs": [
    {
     "name": "stdout",
     "output_type": "stream",
     "text": [
      "Samples 0:\n",
      "- I am flying to London next week.\n",
      "- I am flying to Paris next week.\n",
      "- I am flying to Italy next week.\n",
      "- I am flying to California next week.\n",
      "- I am flying to England next week.\n",
      "Samples 1:\n",
      "- I am going with my life.\n",
      "- I am going with my heart.\n",
      "- I am going with my plan.\n",
      "- I am going with my head.\n",
      "- I am going with my instincts.\n"
     ]
    }
   ],
   "source": [
    "masked_sample0 = \"I am flying to [MASK] next week.\"\n",
    "masked_sample1 = \"I am going with my [MASK].\"\n",
    "\n",
    "for i, predictions in enumerate(fill_mask_generator.fill_mask([masked_sample0, masked_sample1], top_k=5)):\n",
    "    print(f\"Samples {i}:\")\n",
    "    for pred in predictions:\n",
    "        print(f\"- {pred}\")"
   ]
  },
  {
   "cell_type": "markdown",
   "id": "fb5979ef",
   "metadata": {},
   "source": [
    "# Translation generation"
   ]
  },
  {
   "cell_type": "markdown",
   "id": "4a980b05",
   "metadata": {},
   "source": [
    "You can use any fine-tuned model available [here](https://huggingface.co/models?pipeline_tag=translation&sort=downloads) to generate samples by translating them."
   ]
  },
  {
   "cell_type": "code",
   "execution_count": 8,
   "id": "e0eabd98",
   "metadata": {},
   "outputs": [
    {
     "name": "stderr",
     "output_type": "stream",
     "text": [
      "/Users/jules/Desktop/nlptest/.venv/nlptest/lib/python3.9/site-packages/transformers/models/marian/tokenization_marian.py:196: UserWarning: Recommended: pip install sacremoses.\n",
      "  warnings.warn(\"Recommended: pip install sacremoses.\")\n"
     ]
    }
   ],
   "source": [
    "translation_generator = Generator(\n",
    "    translator_model_name=\"Helsinki-NLP/opus-mt-en-fr\"\n",
    ")"
   ]
  },
  {
   "cell_type": "code",
   "execution_count": 9,
   "id": "a8ff128f",
   "metadata": {},
   "outputs": [
    {
     "name": "stdout",
     "output_type": "stream",
     "text": [
      "Translated sentence: Je m'appelle John et je vis à Londres.\n",
      "Translated sentence: Je vais passer mes vacances à New York.\n"
     ]
    }
   ],
   "source": [
    "template1 = \"My name is John and I live in London.\"\n",
    "template2 = \"I am on going to spend my holidays in New York.\"\n",
    "\n",
    "for translation in translation_generator.translate([template1, template2]):\n",
    "    print(f\"Translated sentence: {translation}\")"
   ]
  },
  {
   "cell_type": "markdown",
   "id": "c9193503",
   "metadata": {},
   "source": [
    "Note: for all generation methods you can either pass a `str` or a `List[str]`."
   ]
  },
  {
   "cell_type": "markdown",
   "id": "f00ce175",
   "metadata": {},
   "source": [
    "# Chaining generation methods"
   ]
  },
  {
   "cell_type": "markdown",
   "id": "c8f3d583",
   "metadata": {},
   "source": [
    "To generate even more synthetic samples one can chain generation methods. Here is an example on how to combine mask filling and translation."
   ]
  },
  {
   "cell_type": "code",
   "execution_count": 10,
   "id": "7ed4efbe",
   "metadata": {},
   "outputs": [
    {
     "name": "stderr",
     "output_type": "stream",
     "text": [
      "Some weights of the model checkpoint at bert-base-cased were not used when initializing BertForMaskedLM: ['cls.seq_relationship.weight', 'cls.seq_relationship.bias']\n",
      "- This IS expected if you are initializing BertForMaskedLM from the checkpoint of a model trained on another task or with another architecture (e.g. initializing a BertForSequenceClassification model from a BertForPreTraining model).\n",
      "- This IS NOT expected if you are initializing BertForMaskedLM from the checkpoint of a model that you expect to be exactly identical (initializing a BertForSequenceClassification model from a BertForSequenceClassification model).\n"
     ]
    }
   ],
   "source": [
    "generator = Generator(\n",
    "    translator_model_name=\"Helsinki-NLP/opus-mt-en-fr\",\n",
    "    fill_mask_model_name=\"bert-base-cased\"\n",
    ")"
   ]
  },
  {
   "cell_type": "code",
   "execution_count": 11,
   "id": "9bfb4531",
   "metadata": {},
   "outputs": [
    {
     "name": "stdout",
     "output_type": "stream",
     "text": [
      "Sequence 0: Je m'envole pour Londres la semaine prochaine.\n",
      "Sequence 1: Je m'envole pour Paris la semaine prochaine.\n",
      "Sequence 2: Je m'envole pour l'Italie la semaine prochaine.\n",
      "Sequence 3: Je vais en Californie la semaine prochaine.\n",
      "Sequence 4: Je m'envole pour l'Angleterre la semaine prochaine.\n"
     ]
    }
   ],
   "source": [
    "masked_sample = \"I am flying to [MASK] next week.\"\n",
    "filled_samples = generator.fill_mask(masked_sample, top_k=5)[0]\n",
    "translated_filled_samples = generator.translate(filled_samples)\n",
    "\n",
    "for i, sample in enumerate(translated_filled_samples):\n",
    "    print(f\"Sequence {i}: {sample}\")"
   ]
  },
  {
   "cell_type": "code",
   "execution_count": null,
   "id": "1587f5a1",
   "metadata": {},
   "outputs": [],
   "source": []
  }
 ],
 "metadata": {
  "kernelspec": {
   "display_name": "nlptest",
   "language": "python",
   "name": "nlptest"
  },
  "language_info": {
   "codemirror_mode": {
    "name": "ipython",
    "version": 3
   },
   "file_extension": ".py",
   "mimetype": "text/x-python",
   "name": "python",
   "nbconvert_exporter": "python",
   "pygments_lexer": "ipython3",
   "version": "3.9.10"
  }
 },
 "nbformat": 4,
 "nbformat_minor": 5
}
