{
 "cells": [
  {
   "cell_type": "code",
   "execution_count": 1,
   "id": "69c9e0c8",
   "metadata": {},
   "outputs": [
    {
     "name": "stderr",
     "output_type": "stream",
     "text": [
      "/Users/jules/Desktop/nlptest/.venv/nlptest/lib/python3.9/site-packages/tqdm/auto.py:22: TqdmWarning: IProgress not found. Please update jupyter and ipywidgets. See https://ipywidgets.readthedocs.io/en/stable/user_install.html\n",
      "  from .autonotebook import tqdm as notebook_tqdm\n"
     ]
    }
   ],
   "source": [
    "import torch\n",
    "\n",
    "from typing import List, Union, Tuple\n",
    "from transformers import AutoTokenizer, AutoModelForSequenceClassification\n",
    "\n",
    "from nlptest.behavior import SequenceClassificationBehavior\n",
    "from nlptest.types import BehaviorType, TaskType"
   ]
  },
  {
   "cell_type": "markdown",
   "id": "b13c7279",
   "metadata": {},
   "source": [
    "A `Behavior` aims to test a specific capability of a model by checking the prediction of a given input. We present here how to use a behavior for the specific use case of a sentiment classification problem."
   ]
  },
  {
   "cell_type": "code",
   "execution_count": 2,
   "id": "749a696b",
   "metadata": {},
   "outputs": [],
   "source": [
    "# We first load our model\n",
    "tokenizer = AutoTokenizer.from_pretrained(\"avichr/heBERT_sentiment_analysis\")\n",
    "model = AutoModelForSequenceClassification.from_pretrained(\"avichr/heBERT_sentiment_analysis\")"
   ]
  },
  {
   "cell_type": "code",
   "execution_count": 3,
   "id": "36920b7d",
   "metadata": {},
   "outputs": [],
   "source": [
    "# We then generate samples we want to test a specific behavior on\n",
    "samples = [\n",
    "    \"This sound track was beautiful! It paints the senery in your mind so well I would recomend it even to people who hate vid. game music! I have played the game Chrono Cross but out of all of the games I have ever played it has the best music! It backs away from crude keyboarding and takes a fresher step with grate guitars and soulful orchestras. It would impress anyone who cares to listen!\",\n",
    "    \"I thought this book was brilliant, but yet realistic. It showed me that to error is human. I loved the fact that this writer showed the loving side of God and not the revengeful side of him. I loved how it twisted and turned and I could not put it down. I also loved The glass castle.\",\n",
    "    \"I read the reviews,made my purchase and was very disappointed. The charger is convenient by charging all four batteries at once but the charge only lasts a very short time. I now have to go and find batteries that will give me longer life than the kodak NiMH AA batteries.\"\n",
    "]"
   ]
  },
  {
   "cell_type": "code",
   "execution_count": 4,
   "id": "d4989b40",
   "metadata": {},
   "outputs": [],
   "source": [
    "# We then define our prediction function\n",
    "def predict(texts: Union[List[str], str]) -> Union[List[int], List[Tuple[int, float]]]:\n",
    "    \"\"\"\"\"\"\n",
    "    inputs = tokenizer(texts, truncation=True, padding=\"max_length\", max_length=128, return_tensors=\"pt\")\n",
    "    with torch.no_grad():\n",
    "        outputs = model(**inputs)\n",
    "    probs = torch.nn.functional.softmax(outputs.logits, dim=-1)\n",
    "    max_probs, preds = torch.max(probs, dim=-1)\n",
    "    return [(label, prob) for label, prob in zip(preds.tolist(), max_probs.tolist())]"
   ]
  },
  {
   "cell_type": "code",
   "execution_count": 5,
   "id": "4bfe9a78",
   "metadata": {},
   "outputs": [],
   "source": [
    "# We can now create our behavioral test\n",
    "behavior = SequenceClassificationBehavior(\n",
    "    name=\"Amazon polarity behavior\",\n",
    "    test_type=BehaviorType.minimum_functionality,\n",
    "    task_type=TaskType.sequence_classification,\n",
    "    samples=samples,\n",
    "    predict_fn=predict,\n",
    "    labels=[2,2,0],\n",
    "    description=\"Checking model behavior on Amazon review\"\n",
    ")"
   ]
  },
  {
   "cell_type": "code",
   "execution_count": 6,
   "id": "be96abf3",
   "metadata": {},
   "outputs": [
    {
     "name": "stdout",
     "output_type": "stream",
     "text": [
      "Output 0: text='This sound track was beautiful! It paints the senery in your mind so well I would recomend it even to people who hate vid. game music! I have played the game Chrono Cross but out of all of the games I have ever played it has the best music! It backs away from crude keyboarding and takes a fresher step with grate guitars and soulful orchestras. It would impress anyone who cares to listen!' y_pred='2' y_pred_prob=0.9918654561042786 y='2'\n",
      "\n",
      "Output 1: text='I thought this book was brilliant, but yet realistic. It showed me that to error is human. I loved the fact that this writer showed the loving side of God and not the revengeful side of him. I loved how it twisted and turned and I could not put it down. I also loved The glass castle.' y_pred='2' y_pred_prob=0.9981094598770142 y='2'\n",
      "\n",
      "Output 2: text='I read the reviews,made my purchase and was very disappointed. The charger is convenient by charging all four batteries at once but the charge only lasts a very short time. I now have to go and find batteries that will give me longer life than the kodak NiMH AA batteries.' y_pred='2' y_pred_prob=0.9984116554260254 y='0'\n",
      "\n"
     ]
    }
   ],
   "source": [
    "# Once created we can now run the test and check the output\n",
    "behavior.run()\n",
    "\n",
    "for i, output in enumerate(behavior.outputs):\n",
    "    print(f\"Output {i}: {output}\\n\")"
   ]
  },
  {
   "cell_type": "markdown",
   "id": "456c6302",
   "metadata": {},
   "source": [
    "We can also save this behavior and test it against a new model"
   ]
  },
  {
   "cell_type": "code",
   "execution_count": 7,
   "id": "fc71b197",
   "metadata": {},
   "outputs": [],
   "source": [
    "# saving the behavior\n",
    "behavior.to_file(\"saved_behaviors/\")"
   ]
  },
  {
   "cell_type": "code",
   "execution_count": 8,
   "id": "963cce81",
   "metadata": {},
   "outputs": [],
   "source": [
    "# loading a new model\n",
    "new_tokenizer = AutoTokenizer.from_pretrained(\"sbcBI/sentiment_analysis\")\n",
    "new_model = AutoModelForSequenceClassification.from_pretrained(\"sbcBI/sentiment_analysis\")"
   ]
  },
  {
   "cell_type": "code",
   "execution_count": 9,
   "id": "1fef3781",
   "metadata": {},
   "outputs": [],
   "source": [
    "# We then define our new prediction function\n",
    "def new_predict(texts: Union[List[str], str]) -> Union[List[int], List[Tuple[int, float]]]:\n",
    "    \"\"\"\"\"\"\n",
    "    inputs = new_tokenizer(texts, truncation=True, padding=\"max_length\", max_length=128, return_tensors=\"pt\")\n",
    "    with torch.no_grad():\n",
    "        outputs = new_model(**inputs)\n",
    "    probs = torch.nn.functional.softmax(outputs.logits, dim=-1)\n",
    "    max_probs, preds = torch.max(probs, dim=-1)\n",
    "    return [(label, prob) for label, prob in zip(preds.tolist(), max_probs.tolist())]"
   ]
  },
  {
   "cell_type": "code",
   "execution_count": 10,
   "id": "5fc55fcb",
   "metadata": {},
   "outputs": [],
   "source": [
    "# loading the behavior\n",
    "new_behavior = SequenceClassificationBehavior.from_file(\n",
    "    path_to_file=\"saved_behaviors/amazon_polarity_behavior.pkl\",\n",
    "    predict_fn=new_predict\n",
    ")"
   ]
  },
  {
   "cell_type": "code",
   "execution_count": 11,
   "id": "a69ba6fd",
   "metadata": {},
   "outputs": [
    {
     "name": "stdout",
     "output_type": "stream",
     "text": [
      "Output 0: text='This sound track was beautiful! It paints the senery in your mind so well I would recomend it even to people who hate vid. game music! I have played the game Chrono Cross but out of all of the games I have ever played it has the best music! It backs away from crude keyboarding and takes a fresher step with grate guitars and soulful orchestras. It would impress anyone who cares to listen!' y_pred='2' y_pred_prob=0.9460005760192871 y='2'\n",
      "\n",
      "Output 1: text='I thought this book was brilliant, but yet realistic. It showed me that to error is human. I loved the fact that this writer showed the loving side of God and not the revengeful side of him. I loved how it twisted and turned and I could not put it down. I also loved The glass castle.' y_pred='2' y_pred_prob=0.9702939987182617 y='2'\n",
      "\n",
      "Output 2: text='I read the reviews,made my purchase and was very disappointed. The charger is convenient by charging all four batteries at once but the charge only lasts a very short time. I now have to go and find batteries that will give me longer life than the kodak NiMH AA batteries.' y_pred='0' y_pred_prob=0.7259241342544556 y='0'\n",
      "\n"
     ]
    }
   ],
   "source": [
    "# We can now run the test and check the output of the new model\n",
    "new_behavior.run()\n",
    "\n",
    "for i, output in enumerate(new_behavior.outputs):\n",
    "    print(f\"Output {i}: {output}\\n\")"
   ]
  },
  {
   "cell_type": "code",
   "execution_count": null,
   "id": "abd3a265",
   "metadata": {},
   "outputs": [],
   "source": []
  }
 ],
 "metadata": {
  "kernelspec": {
   "display_name": "nlptest",
   "language": "python",
   "name": "nlptest"
  },
  "language_info": {
   "codemirror_mode": {
    "name": "ipython",
    "version": 3
   },
   "file_extension": ".py",
   "mimetype": "text/x-python",
   "name": "python",
   "nbconvert_exporter": "python",
   "pygments_lexer": "ipython3",
   "version": "3.9.12"
  }
 },
 "nbformat": 4,
 "nbformat_minor": 5
}
