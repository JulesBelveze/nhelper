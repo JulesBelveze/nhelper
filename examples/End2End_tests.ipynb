{
 "cells": [
  {
   "cell_type": "markdown",
   "id": "e17fcc52",
   "metadata": {},
   "source": [
    "# End to end behavioral testing"
   ]
  },
  {
   "cell_type": "markdown",
   "id": "0640d96f",
   "metadata": {},
   "source": [
    "In this notebook we show how one can use `nlptest` to create a set of tests (a `TestPack`) to tests specific behaviors of a model.\n",
    "\n",
    "We here focus on a span extraction task and more precisely a NER task. We use the english NER model of the [spacy](https://spacy.io/) library."
   ]
  },
  {
   "cell_type": "code",
   "execution_count": 1,
   "id": "9d9125d3",
   "metadata": {},
   "outputs": [
    {
     "name": "stderr",
     "output_type": "stream",
     "text": [
      "/Users/jules/Desktop/nlptest/.venv/nlptest/lib/python3.9/site-packages/tqdm/auto.py:22: TqdmWarning: IProgress not found. Please update jupyter and ipywidgets. See https://ipywidgets.readthedocs.io/en/stable/user_install.html\n",
      "  from .autonotebook import tqdm as notebook_tqdm\n"
     ]
    }
   ],
   "source": [
    "import torch\n",
    "import spacy\n",
    "\n",
    "from typing import List, Union, Tuple\n",
    "from transformers import AutoTokenizer, AutoModelForSequenceClassification\n",
    "\n",
    "from nlptest.behavior import SpanClassificationBehavior\n",
    "from nlptest.types import BehaviorType, TaskType, Span\n",
    "from nlptest.generator import Generator\n",
    "from nlptest.testpack import TestPack\n",
    "from nlptest.performers import Performer"
   ]
  },
  {
   "cell_type": "markdown",
   "id": "b566d645",
   "metadata": {},
   "source": [
    "First, let us generate samples to test our model on.\n",
    "\n",
    "We generate two sets of samples that are meant to test different behavioral aspect of the model."
   ]
  },
  {
   "cell_type": "code",
   "execution_count": 2,
   "id": "dee8f100",
   "metadata": {},
   "outputs": [],
   "source": [
    "kwargs_generator = Generator()"
   ]
  },
  {
   "cell_type": "code",
   "execution_count": 3,
   "id": "61659a27",
   "metadata": {},
   "outputs": [],
   "source": [
    "template = \"I am flying to {LOC} with {PERSON}.\"\n",
    "\n",
    "locations = [\"NYC\", \"Copenhagen\", \"Miami\"]\n",
    "people = [\"John\", \"Stefan\", \"Maria\"]\n",
    "\n",
    "# to get the positions of the keywords set `return_pos=True`\n",
    "loc_pers_samples, all_positions = kwargs_generator.generate(template, \n",
    "                                                            generate_all=True, \n",
    "                                                            return_pos=True,\n",
    "                                                            LOC=locations, \n",
    "                                                            PERSON=people)"
   ]
  },
  {
   "cell_type": "code",
   "execution_count": 4,
   "id": "efa589d9",
   "metadata": {},
   "outputs": [],
   "source": [
    "# creating the set of ground truth labels\n",
    "labels = []\n",
    "for positions in all_positions:\n",
    "    labels.append([Span(start=pos[0], end=pos[1], label=pos[2], text=pos[3]) for pos in positions])"
   ]
  },
  {
   "cell_type": "code",
   "execution_count": 5,
   "id": "b98ec68d",
   "metadata": {},
   "outputs": [],
   "source": [
    "# Creating some minimum functionality samples\n",
    "mf_samples = [\n",
    "    \"He is working for a company called John.\",\n",
    "    \"I love all the apple products.\"\n",
    "]\n",
    "mf_labels = [\n",
    "    [Span(start=35, end=39, label=\"PERSON\", text=\"John\")],\n",
    "    [Span(start=15, end=20, label=\"PRODUCT\", text=\"apple\")]\n",
    "]"
   ]
  },
  {
   "cell_type": "code",
   "execution_count": 6,
   "id": "71261846",
   "metadata": {},
   "outputs": [],
   "source": [
    "# load our model\n",
    "nlp = spacy.load(\"en_core_web_sm\")"
   ]
  },
  {
   "cell_type": "markdown",
   "id": "e166828d",
   "metadata": {},
   "source": [
    "We now define the prediction function that will perform the inference as well as formatting the output."
   ]
  },
  {
   "cell_type": "code",
   "execution_count": 7,
   "id": "a4e46968",
   "metadata": {},
   "outputs": [],
   "source": [
    "def predict(samples: Union[List[str], str]) -> List[List[Span]]:\n",
    "    \"\"\"\"\"\"\n",
    "    if isinstance(samples, str):\n",
    "        samples = [samples]\n",
    "        \n",
    "    all_spans = []\n",
    "    for sample in samples:\n",
    "        doc = nlp(sample)\n",
    "        all_spans.append([Span(start=ent.start_char, end=ent.end_char, label=ent.label_, text=ent.text) for ent in doc.ents])\n",
    "    return all_spans"
   ]
  },
  {
   "cell_type": "code",
   "execution_count": 8,
   "id": "63d2c4a4",
   "metadata": {},
   "outputs": [],
   "source": [
    "# We define the first behavior to test\n",
    "invariance_loc_pers = SpanClassificationBehavior(\n",
    "    capability=\"Class agnotic\",\n",
    "    name=\"Loc pers invariance behavior\",\n",
    "    test_type=BehaviorType.invariance,\n",
    "    samples=loc_pers_samples,\n",
    "    predict_fn=predict,\n",
    "    labels=labels,\n",
    "    description=\"Checking model invariance on LOC & PERS entities.\"\n",
    ")"
   ]
  },
  {
   "cell_type": "code",
   "execution_count": 9,
   "id": "9788541b",
   "metadata": {},
   "outputs": [],
   "source": [
    "# We define the second behavior to test\n",
    "mf_behavior = SpanClassificationBehavior(\n",
    "    capability=\"Be good\",\n",
    "    name=\"Random tests\",\n",
    "    test_type=BehaviorType.minimum_functionality,\n",
    "    samples=mf_samples,\n",
    "    predict_fn=predict,\n",
    "    labels=mf_labels,\n",
    "    description=\"Random tests\"\n",
    ")"
   ]
  },
  {
   "cell_type": "markdown",
   "id": "6bcc049d",
   "metadata": {},
   "source": [
    "We can now define our suite of tests and evaluate it."
   ]
  },
  {
   "cell_type": "code",
   "execution_count": 10,
   "id": "6a5622f6",
   "metadata": {},
   "outputs": [],
   "source": [
    "testpack = TestPack(behaviors=[mf_behavior, invariance_loc_pers], performer=Performer())"
   ]
  },
  {
   "cell_type": "code",
   "execution_count": 11,
   "id": "2acd3fd8",
   "metadata": {},
   "outputs": [],
   "source": [
    "testpack.run()"
   ]
  },
  {
   "cell_type": "code",
   "execution_count": 12,
   "id": "4b5733c3",
   "metadata": {},
   "outputs": [
    {
     "name": "stdout",
     "output_type": "stream",
     "text": [
      "-------------------------------------  --------\n",
      "Total                                  0.181818\n",
      "Name - Random tests                    0\n",
      "Name - Loc pers invariance behavior    0.222222\n",
      "Behavior type - minimum functionality  0\n",
      "Behavior type - invariance             0.222222\n",
      "Capability - Be good                   0\n",
      "Capability - Class agnotic             0.222222\n",
      "-------------------------------------  --------\n"
     ]
    }
   ],
   "source": [
    "print(testpack.performer.tabulate_result())"
   ]
  },
  {
   "cell_type": "code",
   "execution_count": null,
   "id": "159dab22",
   "metadata": {},
   "outputs": [],
   "source": []
  }
 ],
 "metadata": {
  "kernelspec": {
   "display_name": "nlptest",
   "language": "python",
   "name": "nlptest"
  },
  "language_info": {
   "codemirror_mode": {
    "name": "ipython",
    "version": 3
   },
   "file_extension": ".py",
   "mimetype": "text/x-python",
   "name": "python",
   "nbconvert_exporter": "python",
   "pygments_lexer": "ipython3",
   "version": "3.9.12"
  }
 },
 "nbformat": 4,
 "nbformat_minor": 5
}
